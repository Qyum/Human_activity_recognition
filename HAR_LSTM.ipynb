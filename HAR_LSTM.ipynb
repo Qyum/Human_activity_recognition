{
 "cells": [
  {
   "cell_type": "code",
   "execution_count": 1,
   "metadata": {},
   "outputs": [],
   "source": [
    "# Importing Libraries"
   ]
  },
  {
   "cell_type": "code",
   "execution_count": 2,
   "metadata": {},
   "outputs": [],
   "source": [
    "import pandas as pd\n",
    "import numpy as np"
   ]
  },
  {
   "cell_type": "code",
   "execution_count": 3,
   "metadata": {},
   "outputs": [],
   "source": [
    "# Activities are the class labels\n",
    "# It is a 6 class classification\n",
    "ACTIVITIES = {\n",
    "    0: 'WALKING',\n",
    "    1: 'WALKING_UPSTAIRS',\n",
    "    2: 'WALKING_DOWNSTAIRS',\n",
    "    3: 'SITTING',\n",
    "    4: 'STANDING',\n",
    "    5: 'LAYING',\n",
    "}\n",
    "\n",
    "# Utility function to print the confusion matrix\n",
    "def confusion_matrix(Y_true, Y_pred):\n",
    "    Y_true = pd.Series([ACTIVITIES[y] for y in np.argmax(Y_true, axis=1)])\n",
    "    Y_pred = pd.Series([ACTIVITIES[y] for y in np.argmax(Y_pred, axis=1)])\n",
    "\n",
    "    return pd.crosstab(Y_true, Y_pred, rownames=['True'], colnames=['Pred'])"
   ]
  },
  {
   "cell_type": "markdown",
   "metadata": {},
   "source": [
    "### Data"
   ]
  },
  {
   "cell_type": "code",
   "execution_count": 4,
   "metadata": {},
   "outputs": [],
   "source": [
    "# Data directory\n",
    "DATADIR = 'G:/human_activity_dataset/HAR/UCI_HAR_Dataset'"
   ]
  },
  {
   "cell_type": "code",
   "execution_count": 5,
   "metadata": {},
   "outputs": [],
   "source": [
    "# Raw data signals\n",
    "# Signals are from Accelerometer and Gyroscope\n",
    "# The signals are in x,y,z directions\n",
    "# Sensor signals are filtered to have only body acceleration\n",
    "# excluding the acceleration due to gravity\n",
    "# Triaxial acceleration from the accelerometer is total acceleration\n",
    "SIGNALS = [\n",
    "    \"body_acc_x\",\n",
    "    \"body_acc_y\",\n",
    "    \"body_acc_z\",\n",
    "    \"body_gyro_x\",\n",
    "    \"body_gyro_y\",\n",
    "    \"body_gyro_z\",\n",
    "    \"total_acc_x\",\n",
    "    \"total_acc_y\",\n",
    "    \"total_acc_z\"\n",
    "]"
   ]
  },
  {
   "cell_type": "code",
   "execution_count": 6,
   "metadata": {},
   "outputs": [],
   "source": [
    "# Utility function to read the data from csv file\n",
    "def _read_csv(filename):\n",
    "    return pd.read_csv(filename, delim_whitespace=True, header=None)\n",
    "\n",
    "# Utility function to load the load\n",
    "def load_signals(subset):\n",
    "    signals_data = []\n",
    "\n",
    "    for signal in SIGNALS:\n",
    "        filename = f'G:/human_activity_dataset/HAR/UCI_HAR_Dataset/{subset}/Inertial Signals/{signal}_{subset}.txt'\n",
    "        signals_data.append(\n",
    "            _read_csv(filename).as_matrix()\n",
    "        ) \n",
    "\n",
    "    # Transpose is used to change the dimensionality of the output,\n",
    "    # aggregating the signals by combination of sample/timestep.\n",
    "    # Resultant shape is (7352 train/2947 test samples, 128 timesteps, 9 signals)\n",
    "    return np.transpose(signals_data, (1, 2, 0))"
   ]
  },
  {
   "cell_type": "code",
   "execution_count": 7,
   "metadata": {},
   "outputs": [],
   "source": [
    "\n",
    "def load_y(subset):\n",
    "    \"\"\"\n",
    "    The objective that we are trying to predict is a integer, from 1 to 6,\n",
    "    that represents a human activity. We return a binary representation of \n",
    "    every sample objective as a 6 bits vector using One Hot Encoding\n",
    "    (https://pandas.pydata.org/pandas-docs/stable/generated/pandas.get_dummies.html)\n",
    "    \"\"\"\n",
    "    filename = f'G:/human_activity_dataset/HAR/UCI_HAR_Dataset/{subset}/y_{subset}.txt'\n",
    "    y = _read_csv(filename)[0]\n",
    "\n",
    "    return pd.get_dummies(y).as_matrix()"
   ]
  },
  {
   "cell_type": "code",
   "execution_count": 8,
   "metadata": {},
   "outputs": [],
   "source": [
    "def load_data():\n",
    "    \"\"\"\n",
    "    Obtain the dataset from multiple files.\n",
    "    Returns: X_train, X_test, y_train, y_test\n",
    "    \"\"\"\n",
    "    X_train, X_test = load_signals('train'), load_signals('test')\n",
    "    y_train, y_test = load_y('train'), load_y('test')\n",
    "\n",
    "    return X_train, X_test, y_train, y_test"
   ]
  },
  {
   "cell_type": "code",
   "execution_count": 9,
   "metadata": {},
   "outputs": [],
   "source": [
    "# Importing tensorflow\n",
    "np.random.seed(42)\n",
    "import tensorflow as tf\n",
    "tf.random.set_seed(42)"
   ]
  },
  {
   "cell_type": "code",
   "execution_count": 10,
   "metadata": {},
   "outputs": [],
   "source": [
    "# Configuring a session\n",
    "session_conf =tf.compat.v1.ConfigProto(\n",
    "                            intra_op_parallelism_threads=1,\n",
    "                            inter_op_parallelism_threads=1\n",
    "                            )"
   ]
  },
  {
   "cell_type": "code",
   "execution_count": 11,
   "metadata": {},
   "outputs": [],
   "source": [
    "# Import Keras\n",
    "#from keras import backend as K\n",
    "from tensorflow.python.keras import backend as K\n",
    "sess =tf.compat.v1.Session(graph=tf.compat.v1.reset_default_graph(), config=session_conf)\n",
    "K.set_session(sess)"
   ]
  },
  {
   "cell_type": "code",
   "execution_count": 12,
   "metadata": {},
   "outputs": [
    {
     "name": "stderr",
     "output_type": "stream",
     "text": [
      "Using TensorFlow backend.\n"
     ]
    }
   ],
   "source": [
    "# Importing libraries\n",
    "from keras.models import Sequential\n",
    "from keras.layers import LSTM\n",
    "from keras.layers.core import Dense, Dropout"
   ]
  },
  {
   "cell_type": "code",
   "execution_count": 13,
   "metadata": {},
   "outputs": [],
   "source": [
    "# Initializing parameters\n",
    "epochs = 30\n",
    "batch_size = 16\n",
    "n_hidden = 32"
   ]
  },
  {
   "cell_type": "code",
   "execution_count": 14,
   "metadata": {},
   "outputs": [],
   "source": [
    "# Utility function to count the number of classes\n",
    "def _count_classes(y):\n",
    "    return len(set([tuple(category) for category in y]))"
   ]
  },
  {
   "cell_type": "code",
   "execution_count": 15,
   "metadata": {},
   "outputs": [
    {
     "name": "stderr",
     "output_type": "stream",
     "text": [
      "F:\\Users\\Qyum\\Anaconda3\\lib\\site-packages\\ipykernel_launcher.py:12: FutureWarning: Method .as_matrix will be removed in a future version. Use .values instead.\n",
      "  if sys.path[0] == '':\n",
      "F:\\Users\\Qyum\\Anaconda3\\lib\\site-packages\\ipykernel_launcher.py:11: FutureWarning: Method .as_matrix will be removed in a future version. Use .values instead.\n",
      "  # This is added back by InteractiveShellApp.init_path()\n"
     ]
    }
   ],
   "source": [
    "# Loading the train and test data\n",
    "X_train, X_test, Y_train, Y_test = load_data()"
   ]
  },
  {
   "cell_type": "code",
   "execution_count": 16,
   "metadata": {},
   "outputs": [
    {
     "data": {
      "text/plain": [
       "(7352, 128, 9)"
      ]
     },
     "execution_count": 16,
     "metadata": {},
     "output_type": "execute_result"
    }
   ],
   "source": [
    "X_train.shape"
   ]
  },
  {
   "cell_type": "code",
   "execution_count": 17,
   "metadata": {},
   "outputs": [
    {
     "data": {
      "text/plain": [
       "array([[0, 0, 0, 0, 1, 0],\n",
       "       [0, 0, 0, 0, 1, 0],\n",
       "       [0, 0, 0, 0, 1, 0],\n",
       "       ...,\n",
       "       [0, 1, 0, 0, 0, 0],\n",
       "       [0, 1, 0, 0, 0, 0],\n",
       "       [0, 1, 0, 0, 0, 0]], dtype=uint8)"
      ]
     },
     "execution_count": 17,
     "metadata": {},
     "output_type": "execute_result"
    }
   ],
   "source": [
    "Y_train"
   ]
  },
  {
   "cell_type": "code",
   "execution_count": 18,
   "metadata": {},
   "outputs": [
    {
     "data": {
      "text/plain": [
       "array([[[ 1.165315e-02, -2.939904e-02,  1.068262e-01, ...,\n",
       "          1.041216e+00, -2.697959e-01,  2.377977e-02],\n",
       "        [ 1.310909e-02, -3.972867e-02,  1.524549e-01, ...,\n",
       "          1.041803e+00, -2.800250e-01,  7.629271e-02],\n",
       "        [ 1.126885e-02, -5.240586e-02,  2.168462e-01, ...,\n",
       "          1.039086e+00, -2.926631e-01,  1.474754e-01],\n",
       "        ...,\n",
       "        [ 1.291511e-03,  1.173502e-02,  3.665587e-03, ...,\n",
       "          9.930164e-01, -2.599865e-01,  1.443951e-01],\n",
       "        [ 1.469997e-03,  9.517414e-03,  4.041945e-03, ...,\n",
       "          9.932414e-01, -2.620643e-01,  1.447033e-01],\n",
       "        [ 2.573841e-03,  7.305069e-03,  4.888436e-03, ...,\n",
       "          9.943906e-01, -2.641348e-01,  1.454939e-01]],\n",
       "\n",
       "       [[ 9.279629e-03,  6.650520e-03, -2.631933e-02, ...,\n",
       "          9.991921e-01, -2.649349e-01,  1.256164e-01],\n",
       "        [ 4.929711e-03,  1.864973e-02, -2.688753e-02, ...,\n",
       "          9.946787e-01, -2.532142e-01,  1.256249e-01],\n",
       "        [ 3.953596e-03,  1.553950e-02, -3.663861e-02, ...,\n",
       "          9.935518e-01, -2.565887e-01,  1.163814e-01],\n",
       "        ...,\n",
       "        [ 7.787600e-03,  4.730625e-03,  1.412899e-02, ...,\n",
       "          1.001861e+00, -2.619359e-01,  1.527878e-01],\n",
       "        [ 3.433489e-03, -4.619849e-03,  1.338054e-03, ...,\n",
       "          9.975208e-01, -2.713225e-01,  1.398428e-01],\n",
       "        [-1.238678e-03, -1.322889e-02, -1.703861e-02, ...,\n",
       "          9.928615e-01, -2.799715e-01,  1.213135e-01]],\n",
       "\n",
       "       [[ 5.731945e-03,  7.304842e-03,  1.021286e-02, ...,\n",
       "          9.975931e-01, -2.639912e-01,  1.507741e-01],\n",
       "        [ 7.065650e-03,  7.330912e-03,  1.341419e-02, ...,\n",
       "          9.989703e-01, -2.638194e-01,  1.539427e-01],\n",
       "        [ 5.109758e-03,  7.153458e-03,  3.646559e-03, ...,\n",
       "          9.970574e-01, -2.638495e-01,  1.441536e-01],\n",
       "        ...,\n",
       "        [-7.428461e-04, -9.629137e-03, -2.500924e-03, ...,\n",
       "          9.918802e-01, -2.836712e-01,  1.326780e-01],\n",
       "        [-1.923356e-03, -6.425974e-03, -2.524952e-03, ...,\n",
       "          9.906626e-01, -2.805970e-01,  1.326941e-01],\n",
       "        [-4.304617e-03, -7.932046e-03, -3.140111e-03, ...,\n",
       "          9.882446e-01, -2.822329e-01,  1.321175e-01]],\n",
       "\n",
       "       ...,\n",
       "\n",
       "       [[-1.476465e-01,  5.519791e-03,  1.025031e-02, ...,\n",
       "          8.213505e-01, -2.484623e-01, -2.216934e-01],\n",
       "        [-1.699026e-01,  3.235187e-02,  2.632373e-02, ...,\n",
       "          7.991996e-01, -2.232599e-01, -2.045561e-01],\n",
       "        [-1.686980e-01,  7.826144e-02, -2.703439e-02, ...,\n",
       "          8.004623e-01, -1.790170e-01, -2.568719e-01],\n",
       "        ...,\n",
       "        [ 4.978930e-01, -3.158365e-01, -2.321939e-02, ...,\n",
       "          1.463170e+00, -5.515283e-01, -2.723974e-01],\n",
       "        [ 2.141275e-01, -3.121422e-01,  1.814949e-01, ...,\n",
       "          1.179223e+00, -5.472997e-01, -6.773376e-02],\n",
       "        [-1.145089e-01, -2.553472e-01,  3.870347e-01, ...,\n",
       "          8.504963e-01, -4.900368e-01,  1.378256e-01]],\n",
       "\n",
       "       [[ 7.122683e-02, -1.498122e-01, -1.659306e-01, ...,\n",
       "          1.037668e+00, -3.971532e-01, -3.940817e-01],\n",
       "        [-8.866530e-02, -3.755543e-02, -8.708159e-02, ...,\n",
       "          8.780725e-01, -2.848634e-01, -3.151097e-01],\n",
       "        [-7.067473e-02, -1.615178e-02,  1.401189e-02, ...,\n",
       "          8.963897e-01, -2.635297e-01, -2.139040e-01],\n",
       "        ...,\n",
       "        [ 1.859878e-01,  7.344366e-03,  2.383924e-01, ...,\n",
       "          1.156389e+00, -2.283478e-01, -3.512052e-03],\n",
       "        [ 2.737114e-01, -2.279012e-02,  1.302276e-01, ...,\n",
       "          1.243857e+00, -2.583220e-01, -1.117857e-01],\n",
       "        [ 3.536738e-01, -1.118625e-01, -3.402252e-02, ...,\n",
       "          1.323546e+00, -3.472416e-01, -2.760682e-01]],\n",
       "\n",
       "       [[-1.936425e-01, -1.907511e-01,  1.958357e-01, ...,\n",
       "          7.713622e-01, -4.250499e-01, -5.327655e-02],\n",
       "        [-6.498738e-02, -2.035990e-01, -1.531400e-01, ...,\n",
       "          9.000949e-01, -4.375916e-01, -4.020727e-01],\n",
       "        [-9.712210e-02, -2.083832e-01, -2.710627e-01, ...,\n",
       "          8.681034e-01, -4.421595e-01, -5.197379e-01],\n",
       "        ...,\n",
       "        [-5.075521e-02, -1.047171e-01,  1.732707e-01, ...,\n",
       "          9.188616e-01, -3.516799e-01, -7.253919e-02],\n",
       "        [-1.980675e-02, -2.076396e-02,  1.956384e-01, ...,\n",
       "          9.494752e-01, -2.675260e-01, -5.097549e-02],\n",
       "        [-1.104015e-02,  5.243883e-02,  2.184321e-01, ...,\n",
       "          9.578348e-01, -1.941603e-01, -2.892477e-02]]])"
      ]
     },
     "execution_count": 18,
     "metadata": {},
     "output_type": "execute_result"
    }
   ],
   "source": [
    "X_test"
   ]
  },
  {
   "cell_type": "code",
   "execution_count": 19,
   "metadata": {},
   "outputs": [
    {
     "data": {
      "text/plain": [
       "array([[0, 0, 0, 0, 1, 0],\n",
       "       [0, 0, 0, 0, 1, 0],\n",
       "       [0, 0, 0, 0, 1, 0],\n",
       "       ...,\n",
       "       [0, 1, 0, 0, 0, 0],\n",
       "       [0, 1, 0, 0, 0, 0],\n",
       "       [0, 1, 0, 0, 0, 0]], dtype=uint8)"
      ]
     },
     "execution_count": 19,
     "metadata": {},
     "output_type": "execute_result"
    }
   ],
   "source": [
    "Y_test"
   ]
  },
  {
   "cell_type": "code",
   "execution_count": 20,
   "metadata": {},
   "outputs": [
    {
     "name": "stdout",
     "output_type": "stream",
     "text": [
      "128\n",
      "9\n",
      "7352\n"
     ]
    }
   ],
   "source": [
    "timesteps = len(X_train[0])\n",
    "input_dim = len(X_train[0][0])\n",
    "#input_dim = len(X_train[1])\n",
    "n_classes = _count_classes(Y_train)\n",
    "\n",
    "print(timesteps)\n",
    "print(input_dim)\n",
    "print(len(X_train))"
   ]
  },
  {
   "cell_type": "markdown",
   "metadata": {},
   "source": [
    "- Defining the Architecture of LSTM"
   ]
  },
  {
   "cell_type": "code",
   "execution_count": 21,
   "metadata": {},
   "outputs": [
    {
     "name": "stdout",
     "output_type": "stream",
     "text": [
      "Model: \"sequential_1\"\n",
      "_________________________________________________________________\n",
      "Layer (type)                 Output Shape              Param #   \n",
      "=================================================================\n",
      "lstm_1 (LSTM)                (None, 32)                5376      \n",
      "_________________________________________________________________\n",
      "dropout_1 (Dropout)          (None, 32)                0         \n",
      "_________________________________________________________________\n",
      "dense_1 (Dense)              (None, 6)                 198       \n",
      "=================================================================\n",
      "Total params: 5,574\n",
      "Trainable params: 5,574\n",
      "Non-trainable params: 0\n",
      "_________________________________________________________________\n"
     ]
    }
   ],
   "source": [
    "# Initiliazing the sequential model\n",
    "model = Sequential()\n",
    "# Configuring the parameters\n",
    "model.add(LSTM(n_hidden, input_shape=(timesteps, input_dim)))\n",
    "# Adding a dropout layer\n",
    "model.add(Dropout(0.5))\n",
    "# Adding a dense output layer with sigmoid activation\n",
    "model.add(Dense(n_classes, activation='sigmoid'))\n",
    "model.summary()"
   ]
  },
  {
   "cell_type": "code",
   "execution_count": 22,
   "metadata": {},
   "outputs": [],
   "source": [
    "# Compiling the model\n",
    "model.compile(loss='categorical_crossentropy',\n",
    "              optimizer='rmsprop',\n",
    "              metrics=['accuracy'])"
   ]
  },
  {
   "cell_type": "code",
   "execution_count": 23,
   "metadata": {},
   "outputs": [
    {
     "name": "stdout",
     "output_type": "stream",
     "text": [
      "Train on 7352 samples, validate on 2947 samples\n",
      "Epoch 1/30\n",
      "7352/7352 [==============================] - 33s 4ms/step - loss: 1.3008 - accuracy: 0.4645 - val_loss: 1.0891 - val_accuracy: 0.5565\n",
      "Epoch 2/30\n",
      "7352/7352 [==============================] - 33s 4ms/step - loss: 0.9056 - accuracy: 0.6171 - val_loss: 0.8277 - val_accuracy: 0.5942\n",
      "Epoch 3/30\n",
      "7352/7352 [==============================] - 31s 4ms/step - loss: 0.7434 - accuracy: 0.6549 - val_loss: 0.7569 - val_accuracy: 0.6230\n",
      "Epoch 4/30\n",
      "7352/7352 [==============================] - 32s 4ms/step - loss: 0.6725 - accuracy: 0.6800 - val_loss: 0.6941 - val_accuracy: 0.6651\n",
      "Epoch 5/30\n",
      "7352/7352 [==============================] - 32s 4ms/step - loss: 0.6236 - accuracy: 0.7116 - val_loss: 0.6568 - val_accuracy: 0.7326\n",
      "Epoch 6/30\n",
      "7352/7352 [==============================] - 32s 4ms/step - loss: 0.5866 - accuracy: 0.7333 - val_loss: 0.7696 - val_accuracy: 0.6763\n",
      "Epoch 7/30\n",
      "7352/7352 [==============================] - 32s 4ms/step - loss: 0.5055 - accuracy: 0.7748 - val_loss: 0.6162 - val_accuracy: 0.7272\n",
      "Epoch 8/30\n",
      "7352/7352 [==============================] - 31s 4ms/step - loss: 0.4769 - accuracy: 0.7791 - val_loss: 0.5323 - val_accuracy: 0.7465\n",
      "Epoch 9/30\n",
      "7352/7352 [==============================] - 33s 5ms/step - loss: 0.4243 - accuracy: 0.7979 - val_loss: 0.6893 - val_accuracy: 0.7167\n",
      "Epoch 10/30\n",
      "7352/7352 [==============================] - 28s 4ms/step - loss: 0.4033 - accuracy: 0.8096 - val_loss: 0.5631 - val_accuracy: 0.7326\n",
      "Epoch 11/30\n",
      "7352/7352 [==============================] - 29s 4ms/step - loss: 0.3785 - accuracy: 0.8391 - val_loss: 0.5226 - val_accuracy: 0.7937\n",
      "Epoch 12/30\n",
      "7352/7352 [==============================] - 27s 4ms/step - loss: 0.3327 - accuracy: 0.8791 - val_loss: 0.5721 - val_accuracy: 0.8694\n",
      "Epoch 13/30\n",
      "7352/7352 [==============================] - 28s 4ms/step - loss: 0.2857 - accuracy: 0.9132 - val_loss: 0.4536 - val_accuracy: 0.8812\n",
      "Epoch 14/30\n",
      "7352/7352 [==============================] - 28s 4ms/step - loss: 0.2537 - accuracy: 0.9207 - val_loss: 0.5414 - val_accuracy: 0.8748\n",
      "Epoch 15/30\n",
      "7352/7352 [==============================] - 28s 4ms/step - loss: 0.2421 - accuracy: 0.9293 - val_loss: 0.4205 - val_accuracy: 0.8968\n",
      "Epoch 16/30\n",
      "7352/7352 [==============================] - 28s 4ms/step - loss: 0.2077 - accuracy: 0.9331 - val_loss: 0.4868 - val_accuracy: 0.8785\n",
      "Epoch 17/30\n",
      "7352/7352 [==============================] - 28s 4ms/step - loss: 0.1950 - accuracy: 0.9384 - val_loss: 0.5625 - val_accuracy: 0.8833\n",
      "Epoch 18/30\n",
      "7352/7352 [==============================] - 28s 4ms/step - loss: 0.1844 - accuracy: 0.9419 - val_loss: 0.6079 - val_accuracy: 0.8738\n",
      "Epoch 19/30\n",
      "7352/7352 [==============================] - 28s 4ms/step - loss: 0.1846 - accuracy: 0.9414 - val_loss: 0.4497 - val_accuracy: 0.8999\n",
      "Epoch 20/30\n",
      "7352/7352 [==============================] - 28s 4ms/step - loss: 0.1701 - accuracy: 0.9459 - val_loss: 0.5215 - val_accuracy: 0.8795\n",
      "Epoch 21/30\n",
      "7352/7352 [==============================] - 28s 4ms/step - loss: 0.1723 - accuracy: 0.9450 - val_loss: 0.4698 - val_accuracy: 0.8887\n",
      "Epoch 22/30\n",
      "7352/7352 [==============================] - 28s 4ms/step - loss: 0.1813 - accuracy: 0.9448 - val_loss: 0.4783 - val_accuracy: 0.8795\n",
      "Epoch 23/30\n",
      "7352/7352 [==============================] - 28s 4ms/step - loss: 0.1579 - accuracy: 0.9465 - val_loss: 0.4126 - val_accuracy: 0.8968\n",
      "Epoch 24/30\n",
      "7352/7352 [==============================] - 28s 4ms/step - loss: 0.1754 - accuracy: 0.9448 - val_loss: 0.3679 - val_accuracy: 0.9111\n",
      "Epoch 25/30\n",
      "7352/7352 [==============================] - 28s 4ms/step - loss: 0.1827 - accuracy: 0.9425 - val_loss: 0.9810 - val_accuracy: 0.8426\n",
      "Epoch 26/30\n",
      "7352/7352 [==============================] - 28s 4ms/step - loss: 0.1565 - accuracy: 0.9489 - val_loss: 0.3639 - val_accuracy: 0.9043\n",
      "Epoch 27/30\n",
      "7352/7352 [==============================] - 28s 4ms/step - loss: 0.1508 - accuracy: 0.9484 - val_loss: 0.3858 - val_accuracy: 0.8996\n",
      "Epoch 28/30\n",
      "7352/7352 [==============================] - 28s 4ms/step - loss: 0.1461 - accuracy: 0.9470 - val_loss: 0.4374 - val_accuracy: 0.9013\n",
      "Epoch 29/30\n",
      "7352/7352 [==============================] - 28s 4ms/step - loss: 0.1558 - accuracy: 0.9449 - val_loss: 0.3596 - val_accuracy: 0.9043\n",
      "Epoch 30/30\n",
      "7352/7352 [==============================] - 28s 4ms/step - loss: 0.1712 - accuracy: 0.9433 - val_loss: 0.4166 - val_accuracy: 0.8955\n"
     ]
    },
    {
     "data": {
      "text/plain": [
       "<keras.callbacks.callbacks.History at 0x28eb72cc908>"
      ]
     },
     "execution_count": 23,
     "metadata": {},
     "output_type": "execute_result"
    }
   ],
   "source": [
    "# Training the model\n",
    "model.fit(X_train,\n",
    "          Y_train,\n",
    "          batch_size=batch_size,\n",
    "          validation_data=(X_test, Y_test),\n",
    "          epochs=epochs)"
   ]
  },
  {
   "cell_type": "code",
   "execution_count": 24,
   "metadata": {},
   "outputs": [
    {
     "name": "stdout",
     "output_type": "stream",
     "text": [
      "Pred                LAYING  SITTING  STANDING  WALKING  WALKING_DOWNSTAIRS  \\\n",
      "True                                                                         \n",
      "LAYING                 510        0        27        0                   0   \n",
      "SITTING                  2      381       105        1                   1   \n",
      "STANDING                 0       86       446        0                   0   \n",
      "WALKING                  0        0         0      454                  15   \n",
      "WALKING_DOWNSTAIRS       0        0         0        0                 419   \n",
      "WALKING_UPSTAIRS         0        7         0        4                  31   \n",
      "\n",
      "Pred                WALKING_UPSTAIRS  \n",
      "True                                  \n",
      "LAYING                             0  \n",
      "SITTING                            1  \n",
      "STANDING                           0  \n",
      "WALKING                           27  \n",
      "WALKING_DOWNSTAIRS                 1  \n",
      "WALKING_UPSTAIRS                 429  \n"
     ]
    }
   ],
   "source": [
    "# Confusion Matrix\n",
    "print(confusion_matrix(Y_test, model.predict(X_test)))"
   ]
  },
  {
   "cell_type": "code",
   "execution_count": 25,
   "metadata": {},
   "outputs": [
    {
     "name": "stdout",
     "output_type": "stream",
     "text": [
      "2947/2947 [==============================] - 1s 401us/step\n"
     ]
    }
   ],
   "source": [
    "score = model.evaluate(X_test, Y_test)"
   ]
  },
  {
   "cell_type": "code",
   "execution_count": 26,
   "metadata": {},
   "outputs": [
    {
     "data": {
      "text/plain": [
       "[0.41655886096877154, 0.8954869508743286]"
      ]
     },
     "execution_count": 26,
     "metadata": {},
     "output_type": "execute_result"
    }
   ],
   "source": [
    "score"
   ]
  },
  {
   "cell_type": "markdown",
   "metadata": {},
   "source": [
    "- With a simple 2 layer architecture we got 90.09% accuracy and a loss of 0.30\n",
    "- We can further imporve the performace with Hyperparameter tuning"
   ]
  }
 ],
 "metadata": {
  "kernelspec": {
   "display_name": "Python 3",
   "language": "python",
   "name": "python3"
  },
  "language_info": {
   "codemirror_mode": {
    "name": "ipython",
    "version": 3
   },
   "file_extension": ".py",
   "mimetype": "text/x-python",
   "name": "python",
   "nbconvert_exporter": "python",
   "pygments_lexer": "ipython3",
   "version": "3.7.4"
  }
 },
 "nbformat": 4,
 "nbformat_minor": 2
}
